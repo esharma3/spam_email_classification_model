{
 "cells": [
  {
   "cell_type": "code",
   "execution_count": 35,
   "metadata": {},
   "outputs": [
    {
     "name": "stdout",
     "output_type": "stream",
     "text": [
      "The nb_black extension is already loaded. To reload it, use:\n",
      "  %reload_ext nb_black\n"
     ]
    },
    {
     "data": {
      "application/javascript": [
       "\n",
       "            setTimeout(function() {\n",
       "                var nbb_cell_id = 34;\n",
       "                var nbb_unformatted_code = \"tf_gaussian_nb = imb_make_pipeline(\\n    TfidfVectorizer(min_df=25, max_df=0.85, stop_words=\\\"english\\\"),\\n    RandomOverSampler(),\\n    GaussianNB(),\\n)\\n\\nbuild_proba_model(tf_gaussian_nb, X, y)\";\n",
       "                var nbb_formatted_code = \"tf_gaussian_nb = imb_make_pipeline(\\n    TfidfVectorizer(min_df=25, max_df=0.85, stop_words=\\\"english\\\"),\\n    RandomOverSampler(),\\n    GaussianNB(),\\n)\\n\\nbuild_proba_model(tf_gaussian_nb, X, y)\";\n",
       "                var nbb_cells = Jupyter.notebook.get_cells();\n",
       "                for (var i = 0; i < nbb_cells.length; ++i) {\n",
       "                    if (nbb_cells[i].input_prompt_number == nbb_cell_id) {\n",
       "                        if (nbb_cells[i].get_text() == nbb_unformatted_code) {\n",
       "                             nbb_cells[i].set_text(nbb_formatted_code);\n",
       "                        }\n",
       "                        break;\n",
       "                    }\n",
       "                }\n",
       "            }, 500);\n",
       "            "
      ],
      "text/plain": [
       "<IPython.core.display.Javascript object>"
      ]
     },
     "metadata": {},
     "output_type": "display_data"
    }
   ],
   "source": [
    "# importing dependencies here\n",
    "import pandas as pd\n",
    "import numpy as np\n",
    "import matplotlib.pyplot as plt\n",
    "\n",
    "# preprocessing and pipeline\n",
    "import re\n",
    "from sklearn.pipeline import make_pipeline\n",
    "from sklearn.feature_extraction.text import CountVectorizer\n",
    "from sklearn.feature_extraction.text import TfidfVectorizer\n",
    "\n",
    "# class imbalance\n",
    "from imblearn.pipeline import make_pipeline as imb_make_pipeline\n",
    "from imblearn.under_sampling import RandomUnderSampler\n",
    "from imblearn.over_sampling import RandomOverSampler\n",
    "\n",
    "# ML models and Cross Validation\n",
    "from sklearn.model_selection import train_test_split\n",
    "from sklearn.naive_bayes import MultinomialNB\n",
    "from sklearn.naive_bayes import GaussianNB\n",
    "from sklearn import svm\n",
    "from sklearn.model_selection import cross_validate\n",
    "\n",
    "# model evaluation\n",
    "from imblearn.metrics import classification_report_imbalanced\n",
    "from sklearn.metrics import average_precision_score\n",
    "from sklearn.metrics import roc_auc_score\n",
    "\n",
    "# sparse to dense\n",
    "from sklearn.base import TransformerMixin\n",
    "\n",
    "\n",
    "class DenseTransformer(TransformerMixin):\n",
    "    def fit(self, X, y=None, **fit_params):\n",
    "        return self\n",
    "\n",
    "    def transform(self, X, y=None, **fit_params):\n",
    "        return X.todense()\n",
    "\n",
    "\n",
    "# saving the model\n",
    "from joblib import dump\n",
    "\n",
    "# code formatter\n",
    "%load_ext nb_black"
   ]
  },
  {
   "cell_type": "code",
   "execution_count": 2,
   "metadata": {},
   "outputs": [
    {
     "data": {
      "application/javascript": [
       "\n",
       "            setTimeout(function() {\n",
       "                var nbb_cell_id = 2;\n",
       "                var nbb_unformatted_code = \"# reading the email data\\ndf = pd.read_csv(\\\"../data/emails.csv\\\")\";\n",
       "                var nbb_formatted_code = \"# reading the email data\\ndf = pd.read_csv(\\\"../data/emails.csv\\\")\";\n",
       "                var nbb_cells = Jupyter.notebook.get_cells();\n",
       "                for (var i = 0; i < nbb_cells.length; ++i) {\n",
       "                    if (nbb_cells[i].input_prompt_number == nbb_cell_id) {\n",
       "                        if (nbb_cells[i].get_text() == nbb_unformatted_code) {\n",
       "                             nbb_cells[i].set_text(nbb_formatted_code);\n",
       "                        }\n",
       "                        break;\n",
       "                    }\n",
       "                }\n",
       "            }, 500);\n",
       "            "
      ],
      "text/plain": [
       "<IPython.core.display.Javascript object>"
      ]
     },
     "metadata": {},
     "output_type": "display_data"
    }
   ],
   "source": [
    "# reading the email data\n",
    "df = pd.read_csv(\"../data/emails.csv\")"
   ]
  },
  {
   "cell_type": "code",
   "execution_count": 3,
   "metadata": {},
   "outputs": [
    {
     "data": {
      "text/html": [
       "<div>\n",
       "<style scoped>\n",
       "    .dataframe tbody tr th:only-of-type {\n",
       "        vertical-align: middle;\n",
       "    }\n",
       "\n",
       "    .dataframe tbody tr th {\n",
       "        vertical-align: top;\n",
       "    }\n",
       "\n",
       "    .dataframe thead th {\n",
       "        text-align: right;\n",
       "    }\n",
       "</style>\n",
       "<table border=\"1\" class=\"dataframe\">\n",
       "  <thead>\n",
       "    <tr style=\"text-align: right;\">\n",
       "      <th></th>\n",
       "      <th>text</th>\n",
       "      <th>spam</th>\n",
       "    </tr>\n",
       "  </thead>\n",
       "  <tbody>\n",
       "    <tr>\n",
       "      <th>0</th>\n",
       "      <td>Subject: naturally irresistible your corporate...</td>\n",
       "      <td>1</td>\n",
       "    </tr>\n",
       "    <tr>\n",
       "      <th>1</th>\n",
       "      <td>Subject: the stock trading gunslinger  fanny i...</td>\n",
       "      <td>1</td>\n",
       "    </tr>\n",
       "    <tr>\n",
       "      <th>2</th>\n",
       "      <td>Subject: unbelievable new homes made easy  im ...</td>\n",
       "      <td>1</td>\n",
       "    </tr>\n",
       "    <tr>\n",
       "      <th>3</th>\n",
       "      <td>Subject: 4 color printing special  request add...</td>\n",
       "      <td>1</td>\n",
       "    </tr>\n",
       "    <tr>\n",
       "      <th>4</th>\n",
       "      <td>Subject: do not have money , get software cds ...</td>\n",
       "      <td>1</td>\n",
       "    </tr>\n",
       "  </tbody>\n",
       "</table>\n",
       "</div>"
      ],
      "text/plain": [
       "                                                text  spam\n",
       "0  Subject: naturally irresistible your corporate...     1\n",
       "1  Subject: the stock trading gunslinger  fanny i...     1\n",
       "2  Subject: unbelievable new homes made easy  im ...     1\n",
       "3  Subject: 4 color printing special  request add...     1\n",
       "4  Subject: do not have money , get software cds ...     1"
      ]
     },
     "execution_count": 3,
     "metadata": {},
     "output_type": "execute_result"
    },
    {
     "data": {
      "application/javascript": [
       "\n",
       "            setTimeout(function() {\n",
       "                var nbb_cell_id = 3;\n",
       "                var nbb_unformatted_code = \"# checking first 5 records\\ndf.head()\";\n",
       "                var nbb_formatted_code = \"# checking first 5 records\\ndf.head()\";\n",
       "                var nbb_cells = Jupyter.notebook.get_cells();\n",
       "                for (var i = 0; i < nbb_cells.length; ++i) {\n",
       "                    if (nbb_cells[i].input_prompt_number == nbb_cell_id) {\n",
       "                        if (nbb_cells[i].get_text() == nbb_unformatted_code) {\n",
       "                             nbb_cells[i].set_text(nbb_formatted_code);\n",
       "                        }\n",
       "                        break;\n",
       "                    }\n",
       "                }\n",
       "            }, 500);\n",
       "            "
      ],
      "text/plain": [
       "<IPython.core.display.Javascript object>"
      ]
     },
     "metadata": {},
     "output_type": "display_data"
    }
   ],
   "source": [
    "# checking first 5 records\n",
    "df.head()"
   ]
  },
  {
   "cell_type": "markdown",
   "metadata": {},
   "source": [
    "## EDA"
   ]
  },
  {
   "cell_type": "code",
   "execution_count": 4,
   "metadata": {},
   "outputs": [
    {
     "data": {
      "text/plain": [
       "<matplotlib.axes._subplots.AxesSubplot at 0x1a1219e9ac8>"
      ]
     },
     "execution_count": 4,
     "metadata": {},
     "output_type": "execute_result"
    },
    {
     "data": {
      "image/png": "[encoded data removed]",
      "text/plain": [
       "<Figure size 432x288 with 1 Axes>"
      ]
     },
     "metadata": {
      "needs_background": "light"
     },
     "output_type": "display_data"
    },
    {
     "data": {
      "application/javascript": [
       "\n",
       "            setTimeout(function() {\n",
       "                var nbb_cell_id = 4;\n",
       "                var nbb_unformatted_code = \"# checking for class imbalance\\ndf[\\\"spam\\\"].value_counts().plot(kind=\\\"bar\\\")\";\n",
       "                var nbb_formatted_code = \"# checking for class imbalance\\ndf[\\\"spam\\\"].value_counts().plot(kind=\\\"bar\\\")\";\n",
       "                var nbb_cells = Jupyter.notebook.get_cells();\n",
       "                for (var i = 0; i < nbb_cells.length; ++i) {\n",
       "                    if (nbb_cells[i].input_prompt_number == nbb_cell_id) {\n",
       "                        if (nbb_cells[i].get_text() == nbb_unformatted_code) {\n",
       "                             nbb_cells[i].set_text(nbb_formatted_code);\n",
       "                        }\n",
       "                        break;\n",
       "                    }\n",
       "                }\n",
       "            }, 500);\n",
       "            "
      ],
      "text/plain": [
       "<IPython.core.display.Javascript object>"
      ]
     },
     "metadata": {},
     "output_type": "display_data"
    }
   ],
   "source": [
    "# checking for class imbalance\n",
    "df[\"spam\"].value_counts().plot(kind=\"bar\")"
   ]
  },
  {
   "cell_type": "markdown",
   "metadata": {},
   "source": [
    "* Class 1 = Spam\n",
    "* Class 0 = Ham\n",
    "#### The dataset is imbalanced. I will handle class imbalance in the model pipeline."
   ]
  },
  {
   "cell_type": "markdown",
   "metadata": {},
   "source": [
    "### Checking for Null Values"
   ]
  },
  {
   "cell_type": "code",
   "execution_count": 5,
   "metadata": {},
   "outputs": [
    {
     "data": {
      "text/plain": [
       "text    0\n",
       "spam    0\n",
       "dtype: int64"
      ]
     },
     "execution_count": 5,
     "metadata": {},
     "output_type": "execute_result"
    },
    {
     "data": {
      "application/javascript": [
       "\n",
       "            setTimeout(function() {\n",
       "                var nbb_cell_id = 5;\n",
       "                var nbb_unformatted_code = \"df.isnull().sum()\";\n",
       "                var nbb_formatted_code = \"df.isnull().sum()\";\n",
       "                var nbb_cells = Jupyter.notebook.get_cells();\n",
       "                for (var i = 0; i < nbb_cells.length; ++i) {\n",
       "                    if (nbb_cells[i].input_prompt_number == nbb_cell_id) {\n",
       "                        if (nbb_cells[i].get_text() == nbb_unformatted_code) {\n",
       "                             nbb_cells[i].set_text(nbb_formatted_code);\n",
       "                        }\n",
       "                        break;\n",
       "                    }\n",
       "                }\n",
       "            }, 500);\n",
       "            "
      ],
      "text/plain": [
       "<IPython.core.display.Javascript object>"
      ]
     },
     "metadata": {},
     "output_type": "display_data"
    }
   ],
   "source": [
    "df.isnull().sum()"
   ]
  },
  {
   "cell_type": "markdown",
   "metadata": {},
   "source": [
    "### Some quick Stats check"
   ]
  },
  {
   "cell_type": "code",
   "execution_count": 28,
   "metadata": {},
   "outputs": [
    {
     "name": "stdout",
     "output_type": "stream",
     "text": [
      "<class 'pandas.core.frame.DataFrame'>\n",
      "RangeIndex: 5728 entries, 0 to 5727\n",
      "Data columns (total 3 columns):\n",
      " #   Column      Non-Null Count  Dtype \n",
      "---  ------      --------------  ----- \n",
      " 0   text        5728 non-null   object\n",
      " 1   spam        5728 non-null   int64 \n",
      " 2   clean_text  5728 non-null   object\n",
      "dtypes: int64(1), object(2)\n",
      "memory usage: 134.4+ KB\n",
      "None\n",
      "              spam\n",
      "count  5728.000000\n",
      "mean      0.238827\n",
      "std       0.426404\n",
      "min       0.000000\n",
      "25%       0.000000\n",
      "50%       0.000000\n",
      "75%       0.000000\n",
      "max       1.000000\n"
     ]
    },
    {
     "data": {
      "application/javascript": [
       "\n",
       "            setTimeout(function() {\n",
       "                var nbb_cell_id = 27;\n",
       "                var nbb_unformatted_code = \"print(df.info())\\nprint(df.decsribe())\";\n",
       "                var nbb_formatted_code = \"print(df.info())\\nprint(df.decsribe())\";\n",
       "                var nbb_cells = Jupyter.notebook.get_cells();\n",
       "                for (var i = 0; i < nbb_cells.length; ++i) {\n",
       "                    if (nbb_cells[i].input_prompt_number == nbb_cell_id) {\n",
       "                        if (nbb_cells[i].get_text() == nbb_unformatted_code) {\n",
       "                             nbb_cells[i].set_text(nbb_formatted_code);\n",
       "                        }\n",
       "                        break;\n",
       "                    }\n",
       "                }\n",
       "            }, 500);\n",
       "            "
      ],
      "text/plain": [
       "<IPython.core.display.Javascript object>"
      ]
     },
     "metadata": {},
     "output_type": "display_data"
    }
   ],
   "source": [
    "print(df.info())\n",
    "print(df.describe())"
   ]
  },
  {
   "cell_type": "markdown",
   "metadata": {},
   "source": [
    "### Data Cleaning"
   ]
  },
  {
   "cell_type": "code",
   "execution_count": 7,
   "metadata": {},
   "outputs": [
    {
     "data": {
      "application/javascript": [
       "\n",
       "            setTimeout(function() {\n",
       "                var nbb_cell_id = 7;\n",
       "                var nbb_unformatted_code = \"# converting posts into lower case\\ndf[\\\"clean_text\\\"] = df[\\\"text\\\"].str.lower()\\n\\ndf[\\\"clean_text\\\"] = df[\\\"clean_text\\\"].str.replace(\\n    re.compile(r\\\"https?:\\\\/\\\\/(www)?.?([A-Za-z_0-9-]+)([\\\\S])*\\\"), \\\"\\\"\\n)\\n\\n# dropping emails\\ndf[\\\"clean_text\\\"] = df[\\\"clean_text\\\"].str.replace(re.compile(r\\\"\\\\S+@\\\\S+\\\"), \\\"\\\")\\n\\n# dropping punctuations\\ndf[\\\"clean_text\\\"] = df[\\\"clean_text\\\"].str.replace(re.compile(r\\\"[^a-z\\\\s]\\\"), \\\" \\\")\\n\\n# dropping the word \\\"subject\\\"\\ndf[\\\"clean_text\\\"] = df[\\\"clean_text\\\"].str.replace(\\\"subject\\\", \\\"\\\")\";\n",
       "                var nbb_formatted_code = \"# converting posts into lower case\\ndf[\\\"clean_text\\\"] = df[\\\"text\\\"].str.lower()\\n\\ndf[\\\"clean_text\\\"] = df[\\\"clean_text\\\"].str.replace(\\n    re.compile(r\\\"https?:\\\\/\\\\/(www)?.?([A-Za-z_0-9-]+)([\\\\S])*\\\"), \\\"\\\"\\n)\\n\\n# dropping emails\\ndf[\\\"clean_text\\\"] = df[\\\"clean_text\\\"].str.replace(re.compile(r\\\"\\\\S+@\\\\S+\\\"), \\\"\\\")\\n\\n# dropping punctuations\\ndf[\\\"clean_text\\\"] = df[\\\"clean_text\\\"].str.replace(re.compile(r\\\"[^a-z\\\\s]\\\"), \\\" \\\")\\n\\n# dropping the word \\\"subject\\\"\\ndf[\\\"clean_text\\\"] = df[\\\"clean_text\\\"].str.replace(\\\"subject\\\", \\\"\\\")\";\n",
       "                var nbb_cells = Jupyter.notebook.get_cells();\n",
       "                for (var i = 0; i < nbb_cells.length; ++i) {\n",
       "                    if (nbb_cells[i].input_prompt_number == nbb_cell_id) {\n",
       "                        if (nbb_cells[i].get_text() == nbb_unformatted_code) {\n",
       "                             nbb_cells[i].set_text(nbb_formatted_code);\n",
       "                        }\n",
       "                        break;\n",
       "                    }\n",
       "                }\n",
       "            }, 500);\n",
       "            "
      ],
      "text/plain": [
       "<IPython.core.display.Javascript object>"
      ]
     },
     "metadata": {},
     "output_type": "display_data"
    }
   ],
   "source": [
    "# converting posts into lower case\n",
    "df[\"clean_text\"] = df[\"text\"].str.lower()\n",
    "\n",
    "df[\"clean_text\"] = df[\"clean_text\"].str.replace(\n",
    "    re.compile(r\"https?:\\/\\/(www)?.?([A-Za-z_0-9-]+)([\\S])*\"), \"\"\n",
    ")\n",
    "\n",
    "# dropping emails\n",
    "df[\"clean_text\"] = df[\"clean_text\"].str.replace(re.compile(r\"\\S+@\\S+\"), \"\")\n",
    "\n",
    "# dropping punctuations\n",
    "df[\"clean_text\"] = df[\"clean_text\"].str.replace(re.compile(r\"[^a-z\\s]\"), \" \")\n",
    "\n",
    "# dropping the word \"subject\"\n",
    "df[\"clean_text\"] = df[\"clean_text\"].str.replace(\"subject\", \"\")"
   ]
  },
  {
   "cell_type": "code",
   "execution_count": 8,
   "metadata": {},
   "outputs": [
    {
     "data": {
      "text/html": [
       "<div>\n",
       "<style scoped>\n",
       "    .dataframe tbody tr th:only-of-type {\n",
       "        vertical-align: middle;\n",
       "    }\n",
       "\n",
       "    .dataframe tbody tr th {\n",
       "        vertical-align: top;\n",
       "    }\n",
       "\n",
       "    .dataframe thead th {\n",
       "        text-align: right;\n",
       "    }\n",
       "</style>\n",
       "<table border=\"1\" class=\"dataframe\">\n",
       "  <thead>\n",
       "    <tr style=\"text-align: right;\">\n",
       "      <th></th>\n",
       "      <th>text</th>\n",
       "      <th>spam</th>\n",
       "      <th>clean_text</th>\n",
       "    </tr>\n",
       "  </thead>\n",
       "  <tbody>\n",
       "    <tr>\n",
       "      <th>0</th>\n",
       "      <td>Subject: naturally irresistible your corporate...</td>\n",
       "      <td>1</td>\n",
       "      <td>naturally irresistible your corporate identi...</td>\n",
       "    </tr>\n",
       "    <tr>\n",
       "      <th>1</th>\n",
       "      <td>Subject: the stock trading gunslinger  fanny i...</td>\n",
       "      <td>1</td>\n",
       "      <td>the stock trading gunslinger  fanny is merri...</td>\n",
       "    </tr>\n",
       "    <tr>\n",
       "      <th>2</th>\n",
       "      <td>Subject: unbelievable new homes made easy  im ...</td>\n",
       "      <td>1</td>\n",
       "      <td>unbelievable new homes made easy  im wanting...</td>\n",
       "    </tr>\n",
       "    <tr>\n",
       "      <th>3</th>\n",
       "      <td>Subject: 4 color printing special  request add...</td>\n",
       "      <td>1</td>\n",
       "      <td>color printing special  request additional...</td>\n",
       "    </tr>\n",
       "    <tr>\n",
       "      <th>4</th>\n",
       "      <td>Subject: do not have money , get software cds ...</td>\n",
       "      <td>1</td>\n",
       "      <td>do not have money   get software cds from he...</td>\n",
       "    </tr>\n",
       "  </tbody>\n",
       "</table>\n",
       "</div>"
      ],
      "text/plain": [
       "                                                text  spam  \\\n",
       "0  Subject: naturally irresistible your corporate...     1   \n",
       "1  Subject: the stock trading gunslinger  fanny i...     1   \n",
       "2  Subject: unbelievable new homes made easy  im ...     1   \n",
       "3  Subject: 4 color printing special  request add...     1   \n",
       "4  Subject: do not have money , get software cds ...     1   \n",
       "\n",
       "                                          clean_text  \n",
       "0    naturally irresistible your corporate identi...  \n",
       "1    the stock trading gunslinger  fanny is merri...  \n",
       "2    unbelievable new homes made easy  im wanting...  \n",
       "3      color printing special  request additional...  \n",
       "4    do not have money   get software cds from he...  "
      ]
     },
     "execution_count": 8,
     "metadata": {},
     "output_type": "execute_result"
    },
    {
     "data": {
      "application/javascript": [
       "\n",
       "            setTimeout(function() {\n",
       "                var nbb_cell_id = 8;\n",
       "                var nbb_unformatted_code = \"df.head()\";\n",
       "                var nbb_formatted_code = \"df.head()\";\n",
       "                var nbb_cells = Jupyter.notebook.get_cells();\n",
       "                for (var i = 0; i < nbb_cells.length; ++i) {\n",
       "                    if (nbb_cells[i].input_prompt_number == nbb_cell_id) {\n",
       "                        if (nbb_cells[i].get_text() == nbb_unformatted_code) {\n",
       "                             nbb_cells[i].set_text(nbb_formatted_code);\n",
       "                        }\n",
       "                        break;\n",
       "                    }\n",
       "                }\n",
       "            }, 500);\n",
       "            "
      ],
      "text/plain": [
       "<IPython.core.display.Javascript object>"
      ]
     },
     "metadata": {},
     "output_type": "display_data"
    }
   ],
   "source": [
    "df.head()"
   ]
  },
  {
   "cell_type": "markdown",
   "metadata": {},
   "source": [
    "## Building ML Model"
   ]
  },
  {
   "cell_type": "code",
   "execution_count": 9,
   "metadata": {},
   "outputs": [
    {
     "data": {
      "application/javascript": [
       "\n",
       "            setTimeout(function() {\n",
       "                var nbb_cell_id = 9;\n",
       "                var nbb_unformatted_code = \"X = df[\\\"clean_text\\\"].values\\ny = df[\\\"spam\\\"].values\";\n",
       "                var nbb_formatted_code = \"X = df[\\\"clean_text\\\"].values\\ny = df[\\\"spam\\\"].values\";\n",
       "                var nbb_cells = Jupyter.notebook.get_cells();\n",
       "                for (var i = 0; i < nbb_cells.length; ++i) {\n",
       "                    if (nbb_cells[i].input_prompt_number == nbb_cell_id) {\n",
       "                        if (nbb_cells[i].get_text() == nbb_unformatted_code) {\n",
       "                             nbb_cells[i].set_text(nbb_formatted_code);\n",
       "                        }\n",
       "                        break;\n",
       "                    }\n",
       "                }\n",
       "            }, 500);\n",
       "            "
      ],
      "text/plain": [
       "<IPython.core.display.Javascript object>"
      ]
     },
     "metadata": {},
     "output_type": "display_data"
    }
   ],
   "source": [
    "X = df[\"clean_text\"].values\n",
    "y = df[\"spam\"].values"
   ]
  },
  {
   "cell_type": "code",
   "execution_count": 47,
   "metadata": {},
   "outputs": [
    {
     "data": {
      "application/javascript": [
       "\n",
       "            setTimeout(function() {\n",
       "                var nbb_cell_id = 46;\n",
       "                var nbb_unformatted_code = \"svm_pipe = imb_make_pipeline(\\n    CountVectorizer(stop_words=\\\"english\\\"), RandomOverSampler(), svm.SVC(C=100)\\n)\\nbuild_model(svm_pipe, X, y)\";\n",
       "                var nbb_formatted_code = \"svm_pipe = imb_make_pipeline(\\n    CountVectorizer(stop_words=\\\"english\\\"), RandomOverSampler(), svm.SVC(C=100)\\n)\\nbuild_model(svm_pipe, X, y)\";\n",
       "                var nbb_cells = Jupyter.notebook.get_cells();\n",
       "                for (var i = 0; i < nbb_cells.length; ++i) {\n",
       "                    if (nbb_cells[i].input_prompt_number == nbb_cell_id) {\n",
       "                        if (nbb_cells[i].get_text() == nbb_unformatted_code) {\n",
       "                             nbb_cells[i].set_text(nbb_formatted_code);\n",
       "                        }\n",
       "                        break;\n",
       "                    }\n",
       "                }\n",
       "            }, 500);\n",
       "            "
      ],
      "text/plain": [
       "<IPython.core.display.Javascript object>"
      ]
     },
     "metadata": {},
     "output_type": "display_data"
    }
   ],
   "source": [
    "def build_model(model, X, y):\n",
    "\n",
    "    X_train, X_test, y_train, y_test = train_test_split(\n",
    "        X, y, test_size=0.2, random_state=42, stratify=y\n",
    "    )\n",
    "\n",
    "    # model training\n",
    "    model.fit(X_train, y_train)\n",
    "\n",
    "    # y_hat\n",
    "    y_pred = model.predict(X_test)\n",
    "\n",
    "    # model evaluation\n",
    "    print(classification_report_imbalanced(y_test, y_pred))\n",
    "\n",
    "    cross_validation_report(model, X, y)\n",
    "\n",
    "\n",
    "########################################################################################################\n",
    "\n",
    "\n",
    "def build_proba_model(model, X, y):\n",
    "\n",
    "    X_train, X_test, y_train, y_test = train_test_split(\n",
    "        X, y, test_size=0.2, random_state=42, stratify=y\n",
    "    )\n",
    "\n",
    "    # model training\n",
    "    model.fit(X_train, y_train)\n",
    "\n",
    "    # y_hat\n",
    "    y_pred = model.predict(X_test)\n",
    "\n",
    "    # y_probability\n",
    "    y_proba = model.predict_proba(X_test)[:, 1]\n",
    "\n",
    "    # precision recall score\n",
    "    average_precision = average_precision_score(y_test, y_proba)\n",
    "\n",
    "    # model evaluation\n",
    "    print(f\"ROC-AUC Score: {roc_auc_score(y_test, y_proba):.2f}\")\n",
    "    print(f\"Average Precision-Recall Score: {average_precision:.2f}\")\n",
    "    print(classification_report_imbalanced(y_test, y_pred))\n",
    "\n",
    "    cross_validation_report(model, X, y)\n",
    "\n",
    "\n",
    "#####################################################################################################\n",
    "\n",
    "\n",
    "def cross_validation_report(model, X, y):\n",
    "\n",
    "    raw_cv_report = cross_validate(\n",
    "        model, X, y, cv=5, scoring=(\"accuracy\", \"precision\", \"recall\")\n",
    "    )\n",
    "\n",
    "    cv_report = {f\"Avg {key:.2f}\": raw_cv_report[key].mean() for key in raw_cv_report}\n",
    "\n",
    "    print(\"Cross Validation Report:\\n--------------------------------\")\n",
    "    for key in cv_report:\n",
    "        print(f\"{key}: {cv_report[key]}\")\n",
    "\n",
    "    return"
   ]
  },
  {
   "cell_type": "markdown",
   "metadata": {},
   "source": [
    "## Naive Bayes using Count Vectorizer"
   ]
  },
  {
   "cell_type": "code",
   "execution_count": 48,
   "metadata": {},
   "outputs": [
    {
     "name": "stdout",
     "output_type": "stream",
     "text": [
      "ROC-AUC Score: 0.99\n",
      "Average Precision-Recall Score: 0.97\n",
      "                   pre       rec       spe        f1       geo       iba       sup\n",
      "\n",
      "          0       0.99      0.98      0.98      0.99      0.98      0.96       872\n",
      "          1       0.94      0.98      0.98      0.96      0.98      0.96       274\n",
      "\n",
      "avg / total       0.98      0.98      0.98      0.98      0.98      0.96      1146\n",
      "\n",
      "Cross Validation Report:\n",
      "------------------------\n",
      "Avg fit_time: 0.9182470321655274\n",
      "Avg score_time: 0.2260404109954834\n",
      "Avg test_accuracy: 0.9818436635496924\n",
      "Avg test_precision: 0.9464425319683372\n",
      "Avg test_recall: 0.9795379802679072\n"
     ]
    },
    {
     "data": {
      "application/javascript": [
       "\n",
       "            setTimeout(function() {\n",
       "                var nbb_cell_id = 47;\n",
       "                var nbb_unformatted_code = \"def build_model(model, X, y):\\n\\n    X_train, X_test, y_train, y_test = train_test_split(\\n        X, y, test_size=0.2, random_state=42, stratify=y\\n    )\\n\\n    # model training\\n    model.fit(X_train, y_train)\\n\\n    # y_hat\\n    y_pred = model.predict(X_test)\\n\\n    # model evaluation\\n    print(classification_report_imbalanced(y_test, y_pred))\\n\\n    cross_validation_report(model, X, y)\\n\\n\\n########################################################################################################\\n\\n\\ndef build_proba_model(model, X, y):\\n\\n    X_train, X_test, y_train, y_test = train_test_split(\\n        X, y, test_size=0.2, random_state=42, stratify=y\\n    )\\n\\n    # model training\\n    model.fit(X_train, y_train)\\n\\n    # y_hat\\n    y_pred = model.predict(X_test)\\n\\n    # y_probability\\n    y_proba = model.predict_proba(X_test)[:, 1]\\n\\n    # precision recall score\\n    average_precision = average_precision_score(y_test, y_proba)\\n\\n    # model evaluation\\n    print(f\\\"ROC-AUC Score: {roc_auc_score(y_test, y_proba):.2f}\\\")\\n    print(f\\\"Average Precision-Recall Score: {average_precision:.2f}\\\")\\n    print(classification_report_imbalanced(y_test, y_pred))\\n\\n    cross_validation_report(model, X, y)\\n\\n\\n#####################################################################################################\\n\\n\\ndef cross_validation_report(model, X, y):\\n\\n    raw_cv_report = cross_validate(\\n        model, X, y, cv=5, scoring=(\\\"accuracy\\\", \\\"precision\\\", \\\"recall\\\")\\n    )\\n\\n    cv_report = {f\\\"Avg {key}\\\": raw_cv_report[key].mean() for key in raw_cv_report}\\n    \\n    print(\\\"Cross Validation Report:\\\\n------------------------\\\")\\n    for key in cv_report:\\n        print(f\\\"{key}: {cv_report[key]}\\\")\\n\\n    return\";\n",
       "                var nbb_formatted_code = \"def build_model(model, X, y):\\n\\n    X_train, X_test, y_train, y_test = train_test_split(\\n        X, y, test_size=0.2, random_state=42, stratify=y\\n    )\\n\\n    # model training\\n    model.fit(X_train, y_train)\\n\\n    # y_hat\\n    y_pred = model.predict(X_test)\\n\\n    # model evaluation\\n    print(classification_report_imbalanced(y_test, y_pred))\\n\\n    cross_validation_report(model, X, y)\\n\\n\\n########################################################################################################\\n\\n\\ndef build_proba_model(model, X, y):\\n\\n    X_train, X_test, y_train, y_test = train_test_split(\\n        X, y, test_size=0.2, random_state=42, stratify=y\\n    )\\n\\n    # model training\\n    model.fit(X_train, y_train)\\n\\n    # y_hat\\n    y_pred = model.predict(X_test)\\n\\n    # y_probability\\n    y_proba = model.predict_proba(X_test)[:, 1]\\n\\n    # precision recall score\\n    average_precision = average_precision_score(y_test, y_proba)\\n\\n    # model evaluation\\n    print(f\\\"ROC-AUC Score: {roc_auc_score(y_test, y_proba):.2f}\\\")\\n    print(f\\\"Average Precision-Recall Score: {average_precision:.2f}\\\")\\n    print(classification_report_imbalanced(y_test, y_pred))\\n\\n    cross_validation_report(model, X, y)\\n\\n\\n#####################################################################################################\\n\\n\\ndef cross_validation_report(model, X, y):\\n\\n    raw_cv_report = cross_validate(\\n        model, X, y, cv=5, scoring=(\\\"accuracy\\\", \\\"precision\\\", \\\"recall\\\")\\n    )\\n\\n    cv_report = {f\\\"Avg {key}\\\": raw_cv_report[key].mean() for key in raw_cv_report}\\n\\n    print(\\\"Cross Validation Report:\\\\n------------------------\\\")\\n    for key in cv_report:\\n        print(f\\\"{key}: {cv_report[key]}\\\")\\n\\n    return\";\n",
       "                var nbb_cells = Jupyter.notebook.get_cells();\n",
       "                for (var i = 0; i < nbb_cells.length; ++i) {\n",
       "                    if (nbb_cells[i].input_prompt_number == nbb_cell_id) {\n",
       "                        if (nbb_cells[i].get_text() == nbb_unformatted_code) {\n",
       "                             nbb_cells[i].set_text(nbb_formatted_code);\n",
       "                        }\n",
       "                        break;\n",
       "                    }\n",
       "                }\n",
       "            }, 500);\n",
       "            "
      ],
      "text/plain": [
       "<IPython.core.display.Javascript object>"
      ]
     },
     "metadata": {},
     "output_type": "display_data"
    }
   ],
   "source": [
    "ct_nb = imb_make_pipeline(\n",
    "    CountVectorizer(min_df=25, max_df=0.85, stop_words=\"english\"),\n",
    "    RandomOverSampler(),\n",
    "    MultinomialNB(class_prior=None, fit_prior=True),\n",
    ")\n",
    "\n",
    "build_proba_model(ct_nb, X, y)"
   ]
  },
  {
   "cell_type": "markdown",
   "metadata": {},
   "source": [
    "## Naive Bayes using TF-IDF Vectorizer"
   ]
  },
  {
   "cell_type": "code",
   "execution_count": 31,
   "metadata": {
    "scrolled": true
   },
   "outputs": [
    {
     "name": "stdout",
     "output_type": "stream",
     "text": [
      "ROC-AUC Score: 1.00\n",
      "Average Precision-Recall Score: 0.99\n",
      "                   pre       rec       spe        f1       geo       iba       sup\n",
      "\n",
      "          0       0.99      0.99      0.98      0.99      0.98      0.97       872\n",
      "          1       0.95      0.98      0.99      0.97      0.98      0.97       274\n",
      "\n",
      "avg / total       0.98      0.98      0.98      0.98      0.98      0.97      1146\n",
      "\n",
      "Avg fit_time: 0.9175310929616293\n",
      "Avg score_time: 0.4158934752146403\n",
      "Avg test_accuracy: 0.9804470785486585\n",
      "Avg test_precision: 0.942969945393386\n",
      "Avg test_recall: 0.9773391812865496\n"
     ]
    },
    {
     "data": {
      "application/javascript": [
       "\n",
       "            setTimeout(function() {\n",
       "                var nbb_cell_id = 30;\n",
       "                var nbb_unformatted_code = \"tf_nb = imb_make_pipeline(\\n    TfidfVectorizer(min_df=25, max_df=0.85, stop_words=additional_stopwords),\\n    RandomOverSampler(),\\n    MultinomialNB(class_prior=None, fit_prior=True),\\n)\\n\\nbuild_proba_model(tf_nb, X, y)\";\n",
       "                var nbb_formatted_code = \"tf_nb = imb_make_pipeline(\\n    TfidfVectorizer(min_df=25, max_df=0.85, stop_words=additional_stopwords),\\n    RandomOverSampler(),\\n    MultinomialNB(class_prior=None, fit_prior=True),\\n)\\n\\nbuild_proba_model(tf_nb, X, y)\";\n",
       "                var nbb_cells = Jupyter.notebook.get_cells();\n",
       "                for (var i = 0; i < nbb_cells.length; ++i) {\n",
       "                    if (nbb_cells[i].input_prompt_number == nbb_cell_id) {\n",
       "                        if (nbb_cells[i].get_text() == nbb_unformatted_code) {\n",
       "                             nbb_cells[i].set_text(nbb_formatted_code);\n",
       "                        }\n",
       "                        break;\n",
       "                    }\n",
       "                }\n",
       "            }, 500);\n",
       "            "
      ],
      "text/plain": [
       "<IPython.core.display.Javascript object>"
      ]
     },
     "metadata": {},
     "output_type": "display_data"
    }
   ],
   "source": [
    "tf_nb = imb_make_pipeline(\n",
    "    TfidfVectorizer(min_df=25, max_df=0.85, stop_words=\"english\"),\n",
    "    RandomOverSampler(),\n",
    "    MultinomialNB(class_prior=None, fit_prior=True),\n",
    ")\n",
    "\n",
    "build_proba_model(tf_nb, X, y)"
   ]
  },
  {
   "cell_type": "markdown",
   "metadata": {},
   "source": [
    "## Gaussian Naive Bayes using TF-IDF Vectorizer"
   ]
  },
  {
   "cell_type": "code",
   "execution_count": 38,
   "metadata": {
    "scrolled": true
   },
   "outputs": [
    {
     "name": "stdout",
     "output_type": "stream",
     "text": [
      "ROC-AUC Score: 0.93\n",
      "Average Precision-Recall Score: 0.87\n",
      "                   pre       rec       spe        f1       geo       iba       sup\n",
      "\n",
      "          0       0.95      0.99      0.85      0.97      0.92      0.86       872\n",
      "          1       0.97      0.85      0.99      0.91      0.92      0.83       274\n",
      "\n",
      "avg / total       0.96      0.96      0.88      0.96      0.92      0.85      1146\n",
      "\n",
      "Avg fit_time: 0.8335017363230387\n",
      "Avg score_time: 0.3876917362213135\n",
      "Avg test_accuracy: 0.9581015617215046\n",
      "Avg test_precision: 0.9629417716639765\n",
      "Avg test_recall: 0.8574561403508771\n"
     ]
    },
    {
     "data": {
      "application/javascript": [
       "\n",
       "            setTimeout(function() {\n",
       "                var nbb_cell_id = 37;\n",
       "                var nbb_unformatted_code = \"tf_gaussian_nb = imb_make_pipeline(\\n    TfidfVectorizer(min_df=10, max_df=0.80, stop_words=\\\"english\\\"),\\n    RandomOverSampler(),\\n    DenseTransformer(),\\n    GaussianNB(),\\n)\\n\\nbuild_proba_model(tf_gaussian_nb, X, y)\";\n",
       "                var nbb_formatted_code = \"tf_gaussian_nb = imb_make_pipeline(\\n    TfidfVectorizer(min_df=10, max_df=0.80, stop_words=\\\"english\\\"),\\n    RandomOverSampler(),\\n    DenseTransformer(),\\n    GaussianNB(),\\n)\\n\\nbuild_proba_model(tf_gaussian_nb, X, y)\";\n",
       "                var nbb_cells = Jupyter.notebook.get_cells();\n",
       "                for (var i = 0; i < nbb_cells.length; ++i) {\n",
       "                    if (nbb_cells[i].input_prompt_number == nbb_cell_id) {\n",
       "                        if (nbb_cells[i].get_text() == nbb_unformatted_code) {\n",
       "                             nbb_cells[i].set_text(nbb_formatted_code);\n",
       "                        }\n",
       "                        break;\n",
       "                    }\n",
       "                }\n",
       "            }, 500);\n",
       "            "
      ],
      "text/plain": [
       "<IPython.core.display.Javascript object>"
      ]
     },
     "metadata": {},
     "output_type": "display_data"
    }
   ],
   "source": [
    "tf_gaussian_nb = imb_make_pipeline(\n",
    "    TfidfVectorizer(min_df=25, max_df=0.85, stop_words=\"english\"),\n",
    "    RandomOverSampler(),\n",
    "    DenseTransformer(),\n",
    "    GaussianNB(),\n",
    ")\n",
    "\n",
    "build_proba_model(tf_gaussian_nb, X, y)"
   ]
  },
  {
   "cell_type": "markdown",
   "metadata": {},
   "source": [
    "## SVM with Count Vectorizer"
   ]
  },
  {
   "cell_type": "markdown",
   "metadata": {},
   "source": [
    "### RBF kernel with variations of C "
   ]
  },
  {
   "cell_type": "code",
   "execution_count": 49,
   "metadata": {},
   "outputs": [
    {
     "name": "stdout",
     "output_type": "stream",
     "text": [
      "                   pre       rec       spe        f1       geo       iba       sup\n",
      "\n",
      "          0       0.99      0.97      0.97      0.98      0.97      0.94       872\n",
      "          1       0.90      0.97      0.97      0.94      0.97      0.94       274\n",
      "\n",
      "avg / total       0.97      0.97      0.97      0.97      0.97      0.94      1146\n",
      "\n",
      "Cross Validation Report:\n",
      "------------------------\n",
      "Avg fit_time: 10.977053451538087\n",
      "Avg score_time: 1.7871066570281982\n",
      "Avg test_accuracy: 0.9720673388356692\n",
      "Avg test_precision: 0.9221675753421122\n",
      "Avg test_recall: 0.9648966605170985\n"
     ]
    },
    {
     "data": {
      "application/javascript": [
       "\n",
       "            setTimeout(function() {\n",
       "                var nbb_cell_id = 48;\n",
       "                var nbb_unformatted_code = \"ct_nb = imb_make_pipeline(\\n    CountVectorizer(min_df=25, max_df=0.85, stop_words=\\\"english\\\"),\\n    RandomOverSampler(),\\n    MultinomialNB(class_prior=None, fit_prior=True),\\n)\\n\\nbuild_proba_model(ct_nb, X, y)\";\n",
       "                var nbb_formatted_code = \"ct_nb = imb_make_pipeline(\\n    CountVectorizer(min_df=25, max_df=0.85, stop_words=\\\"english\\\"),\\n    RandomOverSampler(),\\n    MultinomialNB(class_prior=None, fit_prior=True),\\n)\\n\\nbuild_proba_model(ct_nb, X, y)\";\n",
       "                var nbb_cells = Jupyter.notebook.get_cells();\n",
       "                for (var i = 0; i < nbb_cells.length; ++i) {\n",
       "                    if (nbb_cells[i].input_prompt_number == nbb_cell_id) {\n",
       "                        if (nbb_cells[i].get_text() == nbb_unformatted_code) {\n",
       "                             nbb_cells[i].set_text(nbb_formatted_code);\n",
       "                        }\n",
       "                        break;\n",
       "                    }\n",
       "                }\n",
       "            }, 500);\n",
       "            "
      ],
      "text/plain": [
       "<IPython.core.display.Javascript object>"
      ]
     },
     "metadata": {},
     "output_type": "display_data"
    }
   ],
   "source": [
    "# C = 1 (default) \n",
    "svm_pipe = imb_make_pipeline(\n",
    "    CountVectorizer(stop_words=\"english\"), RandomOverSampler(), svm.SVC(kernel=\"rbf\", C=1)\n",
    ")\n",
    "build_model(svm_pipe, X, y)"
   ]
  },
  {
   "cell_type": "code",
   "execution_count": 39,
   "metadata": {},
   "outputs": [
    {
     "name": "stdout",
     "output_type": "stream",
     "text": [
      "                   pre       rec       spe        f1       geo       iba       sup\n",
      "\n",
      "          0       0.99      0.99      0.97      0.99      0.98      0.96       872\n",
      "          1       0.96      0.97      0.99      0.97      0.98      0.96       274\n",
      "\n",
      "avg / total       0.98      0.98      0.98      0.98      0.98      0.96      1146\n",
      "\n",
      "Avg fit_time: 6.021752595901489\n",
      "Avg score_time: 1.985026200612386\n",
      "Avg test_accuracy: 0.9849856973992029\n",
      "Avg test_precision: 0.9755313596461734\n",
      "Avg test_recall: 0.9612573099415206\n"
     ]
    },
    {
     "data": {
      "application/javascript": [
       "\n",
       "            setTimeout(function() {\n",
       "                var nbb_cell_id = 38;\n",
       "                var nbb_unformatted_code = \"tf_gaussian_nb = imb_make_pipeline(\\n    TfidfVectorizer(min_df=25, max_df=0.85, stop_words=\\\"english\\\"),\\n    RandomOverSampler(),\\n    DenseTransformer(),\\n    GaussianNB(),\\n)\\n\\nbuild_proba_model(tf_gaussian_nb, X, y)\";\n",
       "                var nbb_formatted_code = \"tf_gaussian_nb = imb_make_pipeline(\\n    TfidfVectorizer(min_df=25, max_df=0.85, stop_words=\\\"english\\\"),\\n    RandomOverSampler(),\\n    DenseTransformer(),\\n    GaussianNB(),\\n)\\n\\nbuild_proba_model(tf_gaussian_nb, X, y)\";\n",
       "                var nbb_cells = Jupyter.notebook.get_cells();\n",
       "                for (var i = 0; i < nbb_cells.length; ++i) {\n",
       "                    if (nbb_cells[i].input_prompt_number == nbb_cell_id) {\n",
       "                        if (nbb_cells[i].get_text() == nbb_unformatted_code) {\n",
       "                             nbb_cells[i].set_text(nbb_formatted_code);\n",
       "                        }\n",
       "                        break;\n",
       "                    }\n",
       "                }\n",
       "            }, 500);\n",
       "            "
      ],
      "text/plain": [
       "<IPython.core.display.Javascript object>"
      ]
     },
     "metadata": {},
     "output_type": "display_data"
    }
   ],
   "source": [
    "# C = 10\n",
    "svm_pipe = imb_make_pipeline(\n",
    "    CountVectorizer(stop_words=\"english\"), RandomOverSampler(), svm.SVC(kernel=\"rbf\", C=10)\n",
    ")\n",
    "build_model(svm_pipe, X, y)"
   ]
  },
  {
   "cell_type": "code",
   "execution_count": 46,
   "metadata": {},
   "outputs": [
    {
     "name": "stdout",
     "output_type": "stream",
     "text": [
      "                   pre       rec       spe        f1       geo       iba       sup\n",
      "\n",
      "          0       0.98      0.99      0.95      0.99      0.97      0.95       872\n",
      "          1       0.97      0.95      0.99      0.96      0.97      0.94       274\n",
      "\n",
      "avg / total       0.98      0.98      0.96      0.98      0.97      0.94      1146\n",
      "\n",
      "Avg fit_time: 5.872753938039144\n",
      "Avg score_time: 1.912200133005778\n",
      "Avg test_accuracy: 0.9806215071988387\n",
      "Avg test_precision: 0.9736579613826638\n",
      "Avg test_recall: 0.9444444444444445\n"
     ]
    },
    {
     "data": {
      "application/javascript": [
       "\n",
       "            setTimeout(function() {\n",
       "                var nbb_cell_id = 45;\n",
       "                var nbb_unformatted_code = \"plt.plot(df[\\\"text\\\"])\";\n",
       "                var nbb_formatted_code = \"plt.plot(df[\\\"text\\\"])\";\n",
       "                var nbb_cells = Jupyter.notebook.get_cells();\n",
       "                for (var i = 0; i < nbb_cells.length; ++i) {\n",
       "                    if (nbb_cells[i].input_prompt_number == nbb_cell_id) {\n",
       "                        if (nbb_cells[i].get_text() == nbb_unformatted_code) {\n",
       "                             nbb_cells[i].set_text(nbb_formatted_code);\n",
       "                        }\n",
       "                        break;\n",
       "                    }\n",
       "                }\n",
       "            }, 500);\n",
       "            "
      ],
      "text/plain": [
       "<IPython.core.display.Javascript object>"
      ]
     },
     "metadata": {},
     "output_type": "display_data"
    }
   ],
   "source": [
    "# C = 100\n",
    "svm_pipe = imb_make_pipeline(\n",
    "    CountVectorizer(stop_words=\"english\"), RandomOverSampler(), svm.SVC(\"rbf\", C=100)\n",
    ")\n",
    "build_model(svm_pipe, X, y)"
   ]
  },
  {
   "cell_type": "markdown",
   "metadata": {},
   "source": [
    "### Linear kernel with variations of C "
   ]
  },
  {
   "cell_type": "code",
   "execution_count": 50,
   "metadata": {},
   "outputs": [
    {
     "name": "stdout",
     "output_type": "stream",
     "text": [
      "                   pre       rec       spe        f1       geo       iba       sup\n",
      "\n",
      "          0       0.99      0.99      0.97      0.99      0.98      0.96       872\n",
      "          1       0.97      0.97      0.99      0.97      0.98      0.96       274\n",
      "\n",
      "avg / total       0.99      0.99      0.98      0.99      0.98      0.96      1146\n",
      "\n",
      "Cross Validation Report:\n",
      "------------------------\n",
      "Avg fit_time: 4.375637817382812\n",
      "Avg score_time: 0.6784913539886475\n",
      "Avg test_accuracy: 0.9844629887895623\n",
      "Avg test_precision: 0.9671496223145677\n",
      "Avg test_recall: 0.967848453249913\n"
     ]
    },
    {
     "data": {
      "application/javascript": [
       "\n",
       "            setTimeout(function() {\n",
       "                var nbb_cell_id = 49;\n",
       "                var nbb_unformatted_code = \"svm_pipe = imb_make_pipeline(\\n    CountVectorizer(stop_words=\\\"english\\\"), RandomOverSampler(), svm.SVC(C=1)\\n)\\nbuild_model(svm_pipe, X, y)\";\n",
       "                var nbb_formatted_code = \"svm_pipe = imb_make_pipeline(\\n    CountVectorizer(stop_words=\\\"english\\\"), RandomOverSampler(), svm.SVC(C=1)\\n)\\nbuild_model(svm_pipe, X, y)\";\n",
       "                var nbb_cells = Jupyter.notebook.get_cells();\n",
       "                for (var i = 0; i < nbb_cells.length; ++i) {\n",
       "                    if (nbb_cells[i].input_prompt_number == nbb_cell_id) {\n",
       "                        if (nbb_cells[i].get_text() == nbb_unformatted_code) {\n",
       "                             nbb_cells[i].set_text(nbb_formatted_code);\n",
       "                        }\n",
       "                        break;\n",
       "                    }\n",
       "                }\n",
       "            }, 500);\n",
       "            "
      ],
      "text/plain": [
       "<IPython.core.display.Javascript object>"
      ]
     },
     "metadata": {},
     "output_type": "display_data"
    }
   ],
   "source": [
    "# C = 1 (default)\n",
    "svm_pipe = imb_make_pipeline(\n",
    "    CountVectorizer(stop_words=\"english\"), RandomOverSampler(), svm.SVC(kernel=\"linear\", C=1)\n",
    ")\n",
    "build_model(svm_pipe, X, y)"
   ]
  },
  {
   "cell_type": "code",
   "execution_count": 51,
   "metadata": {},
   "outputs": [
    {
     "name": "stdout",
     "output_type": "stream",
     "text": [
      "                   pre       rec       spe        f1       geo       iba       sup\n",
      "\n",
      "          0       0.99      0.96      0.97      0.98      0.97      0.94       872\n",
      "          1       0.89      0.97      0.96      0.93      0.97      0.94       274\n",
      "\n",
      "avg / total       0.97      0.97      0.97      0.97      0.97      0.94      1146\n",
      "\n",
      "Cross Validation Report:\n",
      "------------------------\n",
      "Avg fit_time: 11.228559112548828\n",
      "Avg score_time: 1.7902807235717773\n",
      "Avg test_accuracy: 0.9731144592545172\n",
      "Avg test_precision: 0.9253342977161638\n",
      "Avg test_recall: 0.9656265875243978\n"
     ]
    },
    {
     "data": {
      "application/javascript": [
       "\n",
       "            setTimeout(function() {\n",
       "                var nbb_cell_id = 50;\n",
       "                var nbb_unformatted_code = \"# linear kernel\\nsvm_pipe = imb_make_pipeline(\\n    CountVectorizer(stop_words=\\\"english\\\"), RandomOverSampler(), svm.SVC(kernel=\\\"linear\\\")\\n)\\nbuild_model(svm_pipe, X, y)\";\n",
       "                var nbb_formatted_code = \"# linear kernel\\nsvm_pipe = imb_make_pipeline(\\n    CountVectorizer(stop_words=\\\"english\\\"), RandomOverSampler(), svm.SVC(kernel=\\\"linear\\\")\\n)\\nbuild_model(svm_pipe, X, y)\";\n",
       "                var nbb_cells = Jupyter.notebook.get_cells();\n",
       "                for (var i = 0; i < nbb_cells.length; ++i) {\n",
       "                    if (nbb_cells[i].input_prompt_number == nbb_cell_id) {\n",
       "                        if (nbb_cells[i].get_text() == nbb_unformatted_code) {\n",
       "                             nbb_cells[i].set_text(nbb_formatted_code);\n",
       "                        }\n",
       "                        break;\n",
       "                    }\n",
       "                }\n",
       "            }, 500);\n",
       "            "
      ],
      "text/plain": [
       "<IPython.core.display.Javascript object>"
      ]
     },
     "metadata": {},
     "output_type": "display_data"
    }
   ],
   "source": [
    "# C = 10\n",
    "svm_pipe = imb_make_pipeline(\n",
    "    CountVectorizer(stop_words=\"english\"), RandomOverSampler(), svm.SVC(kernel=\"linear\", C=10)\n",
    ")\n",
    "build_model(svm_pipe, X, y)"
   ]
  },
  {
   "cell_type": "code",
   "execution_count": 52,
   "metadata": {},
   "outputs": [
    {
     "name": "stdout",
     "output_type": "stream",
     "text": [
      "                   pre       rec       spe        f1       geo       iba       sup\n",
      "\n",
      "          0       0.99      0.99      0.97      0.99      0.98      0.96       872\n",
      "          1       0.97      0.97      0.99      0.97      0.98      0.96       274\n",
      "\n",
      "avg / total       0.99      0.99      0.98      0.99      0.98      0.96      1146\n",
      "\n",
      "Cross Validation Report:\n",
      "------------------------\n",
      "Avg fit_time: 4.376210403442383\n",
      "Avg score_time: 0.6591748237609864\n",
      "Avg test_accuracy: 0.9844629887895623\n",
      "Avg test_precision: 0.9671496223145677\n",
      "Avg test_recall: 0.967848453249913\n"
     ]
    },
    {
     "data": {
      "application/javascript": [
       "\n",
       "            setTimeout(function() {\n",
       "                var nbb_cell_id = 51;\n",
       "                var nbb_unformatted_code = \"# rbf kernel (default)\\nsvm_pipe = imb_make_pipeline(\\n    CountVectorizer(stop_words=\\\"english\\\"), RandomOverSampler(), svm.SVC(kernel=\\\"rbf\\\")\\n)\\nbuild_model(svm_pipe, X, y)\";\n",
       "                var nbb_formatted_code = \"# rbf kernel (default)\\nsvm_pipe = imb_make_pipeline(\\n    CountVectorizer(stop_words=\\\"english\\\"), RandomOverSampler(), svm.SVC(kernel=\\\"rbf\\\")\\n)\\nbuild_model(svm_pipe, X, y)\";\n",
       "                var nbb_cells = Jupyter.notebook.get_cells();\n",
       "                for (var i = 0; i < nbb_cells.length; ++i) {\n",
       "                    if (nbb_cells[i].input_prompt_number == nbb_cell_id) {\n",
       "                        if (nbb_cells[i].get_text() == nbb_unformatted_code) {\n",
       "                             nbb_cells[i].set_text(nbb_formatted_code);\n",
       "                        }\n",
       "                        break;\n",
       "                    }\n",
       "                }\n",
       "            }, 500);\n",
       "            "
      ],
      "text/plain": [
       "<IPython.core.display.Javascript object>"
      ]
     },
     "metadata": {},
     "output_type": "display_data"
    }
   ],
   "source": [
    "# C = 100\n",
    "svm_pipe = imb_make_pipeline(\n",
    "    CountVectorizer(stop_words=\"english\"),\n",
    "    RandomOverSampler(),\n",
    "    svm.SVC(kernel=\"linear\", C=100),\n",
    ")\n",
    "build_model(svm_pipe, X, y)"
   ]
  },
  {
   "cell_type": "markdown",
   "metadata": {},
   "source": [
    "### Poly kernel with variations of C"
   ]
  },
  {
   "cell_type": "code",
   "execution_count": 53,
   "metadata": {},
   "outputs": [
    {
     "name": "stdout",
     "output_type": "stream",
     "text": [
      "                   pre       rec       spe        f1       geo       iba       sup\n",
      "\n",
      "          0       0.99      0.33      0.99      0.49      0.57      0.30       872\n",
      "          1       0.32      0.99      0.33      0.48      0.57      0.34       274\n",
      "\n",
      "avg / total       0.83      0.48      0.83      0.49      0.57      0.31      1146\n",
      "\n",
      "Cross Validation Report:\n",
      "------------------------\n",
      "Avg fit_time: 26.939928674697875\n",
      "Avg score_time: 3.9504950523376463\n",
      "Avg test_accuracy: 0.495809841712583\n",
      "Avg test_precision: 0.3203329706536275\n",
      "Avg test_recall: 0.9897676532713028\n"
     ]
    },
    {
     "data": {
      "application/javascript": [
       "\n",
       "            setTimeout(function() {\n",
       "                var nbb_cell_id = 52;\n",
       "                var nbb_unformatted_code = \"# C = 100\\nsvm_pipe = imb_make_pipeline(\\n    CountVectorizer(stop_words=\\\"english\\\"), RandomOverSampler(), svm.SVC(kernel=\\\"linear\\\", C=100)\\n)\\nbuild_model(svm_pipe, X, y)\";\n",
       "                var nbb_formatted_code = \"# C = 100\\nsvm_pipe = imb_make_pipeline(\\n    CountVectorizer(stop_words=\\\"english\\\"),\\n    RandomOverSampler(),\\n    svm.SVC(kernel=\\\"linear\\\", C=100),\\n)\\nbuild_model(svm_pipe, X, y)\";\n",
       "                var nbb_cells = Jupyter.notebook.get_cells();\n",
       "                for (var i = 0; i < nbb_cells.length; ++i) {\n",
       "                    if (nbb_cells[i].input_prompt_number == nbb_cell_id) {\n",
       "                        if (nbb_cells[i].get_text() == nbb_unformatted_code) {\n",
       "                             nbb_cells[i].set_text(nbb_formatted_code);\n",
       "                        }\n",
       "                        break;\n",
       "                    }\n",
       "                }\n",
       "            }, 500);\n",
       "            "
      ],
      "text/plain": [
       "<IPython.core.display.Javascript object>"
      ]
     },
     "metadata": {},
     "output_type": "display_data"
    }
   ],
   "source": [
    "# C = 1, default degree = 3\n",
    "svm_pipe = imb_make_pipeline(\n",
    "    CountVectorizer(stop_words=\"english\"), RandomOverSampler(), svm.SVC(kernel=\"poly\", C=1, degree=3)\n",
    ")\n",
    "build_model(svm_pipe, X, y)"
   ]
  },
  {
   "cell_type": "code",
   "execution_count": 54,
   "metadata": {},
   "outputs": [
    {
     "name": "stdout",
     "output_type": "stream",
     "text": [
      "                   pre       rec       spe        f1       geo       iba       sup\n",
      "\n",
      "          0       0.99      0.52      0.99      0.68      0.71      0.48       872\n",
      "          1       0.39      0.99      0.52      0.56      0.71      0.53       274\n",
      "\n",
      "avg / total       0.85      0.63      0.87      0.65      0.71      0.50      1146\n",
      "\n",
      "Cross Validation Report:\n",
      "------------------------\n",
      "Avg fit_time: 25.036382961273194\n",
      "Avg score_time: 3.6159300804138184\n",
      "Avg test_accuracy: 0.6346049673441703\n",
      "Avg test_precision: 0.39430165034596315\n",
      "Avg test_recall: 0.9839148685864014\n"
     ]
    },
    {
     "data": {
      "application/javascript": [
       "\n",
       "            setTimeout(function() {\n",
       "                var nbb_cell_id = 53;\n",
       "                var nbb_unformatted_code = \"# C = 1\\nsvm_pipe = imb_make_pipeline(\\n    CountVectorizer(stop_words=\\\"english\\\"), RandomOverSampler(), svm.SVC(kernel=\\\"poly\\\", C=1)\\n)\\nbuild_model(svm_pipe, X, y)\";\n",
       "                var nbb_formatted_code = \"# C = 1\\nsvm_pipe = imb_make_pipeline(\\n    CountVectorizer(stop_words=\\\"english\\\"),\\n    RandomOverSampler(),\\n    svm.SVC(kernel=\\\"poly\\\", C=1),\\n)\\nbuild_model(svm_pipe, X, y)\";\n",
       "                var nbb_cells = Jupyter.notebook.get_cells();\n",
       "                for (var i = 0; i < nbb_cells.length; ++i) {\n",
       "                    if (nbb_cells[i].input_prompt_number == nbb_cell_id) {\n",
       "                        if (nbb_cells[i].get_text() == nbb_unformatted_code) {\n",
       "                             nbb_cells[i].set_text(nbb_formatted_code);\n",
       "                        }\n",
       "                        break;\n",
       "                    }\n",
       "                }\n",
       "            }, 500);\n",
       "            "
      ],
      "text/plain": [
       "<IPython.core.display.Javascript object>"
      ]
     },
     "metadata": {},
     "output_type": "display_data"
    }
   ],
   "source": [
    "# C = 10\n",
    "svm_pipe = imb_make_pipeline(\n",
    "    CountVectorizer(stop_words=\"english\"),\n",
    "    RandomOverSampler(),\n",
    "    svm.SVC(kernel=\"poly\", C=10, degree=3),\n",
    ")\n",
    "build_model(svm_pipe, X, y)"
   ]
  },
  {
   "cell_type": "code",
   "execution_count": 55,
   "metadata": {},
   "outputs": [
    {
     "name": "stdout",
     "output_type": "stream",
     "text": [
      "                   pre       rec       spe        f1       geo       iba       sup\n",
      "\n",
      "          0       0.99      0.65      0.97      0.79      0.80      0.62       872\n",
      "          1       0.47      0.97      0.65      0.63      0.80      0.66       274\n",
      "\n",
      "avg / total       0.86      0.73      0.90      0.75      0.80      0.63      1146\n",
      "\n",
      "Cross Validation Report:\n",
      "------------------------\n",
      "Avg fit_time: 19.893043279647827\n",
      "Avg score_time: 2.734015941619873\n",
      "Avg test_accuracy: 0.7522775250158136\n",
      "Avg test_precision: 0.4914738298985132\n",
      "Avg test_recall: 0.9766075773375043\n"
     ]
    },
    {
     "data": {
      "application/javascript": [
       "\n",
       "            setTimeout(function() {\n",
       "                var nbb_cell_id = 54;\n",
       "                var nbb_unformatted_code = \"# C = 10\\nsvm_pipe = imb_make_pipeline(\\n    CountVectorizer(stop_words=\\\"english\\\"), RandomOverSampler(), svm.SVC(kernel=\\\"poly\\\", C=10, degree=3)\\n)\\nbuild_model(svm_pipe, X, y)\";\n",
       "                var nbb_formatted_code = \"# C = 10\\nsvm_pipe = imb_make_pipeline(\\n    CountVectorizer(stop_words=\\\"english\\\"),\\n    RandomOverSampler(),\\n    svm.SVC(kernel=\\\"poly\\\", C=10, degree=3),\\n)\\nbuild_model(svm_pipe, X, y)\";\n",
       "                var nbb_cells = Jupyter.notebook.get_cells();\n",
       "                for (var i = 0; i < nbb_cells.length; ++i) {\n",
       "                    if (nbb_cells[i].input_prompt_number == nbb_cell_id) {\n",
       "                        if (nbb_cells[i].get_text() == nbb_unformatted_code) {\n",
       "                             nbb_cells[i].set_text(nbb_formatted_code);\n",
       "                        }\n",
       "                        break;\n",
       "                    }\n",
       "                }\n",
       "            }, 500);\n",
       "            "
      ],
      "text/plain": [
       "<IPython.core.display.Javascript object>"
      ]
     },
     "metadata": {},
     "output_type": "display_data"
    }
   ],
   "source": [
    "# C = 100\n",
    "svm_pipe = imb_make_pipeline(\n",
    "    CountVectorizer(stop_words=\"english\"), RandomOverSampler(), svm.SVC(kernel=\"poly\", C=100, degree=3)\n",
    ")\n",
    "build_model(svm_pipe, X, y)"
   ]
  },
  {
   "cell_type": "code",
   "execution_count": null,
   "metadata": {},
   "outputs": [],
   "source": []
  }
 ],
 "metadata": {
  "kernelspec": {
   "display_name": "project3",
   "language": "python",
   "name": "project3"
  },
  "language_info": {
   "codemirror_mode": {
    "name": "ipython",
    "version": 3
   },
   "file_extension": ".py",
   "mimetype": "text/x-python",
   "name": "python",
   "nbconvert_exporter": "python",
   "pygments_lexer": "ipython3",
   "version": "3.7.5"
  }
 },
 "nbformat": 4,
 "nbformat_minor": 4
}
